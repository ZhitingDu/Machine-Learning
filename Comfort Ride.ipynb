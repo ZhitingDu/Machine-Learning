{
 "cells": [
  {
   "cell_type": "code",
   "execution_count": 26,
   "metadata": {},
   "outputs": [],
   "source": [
    "import pandas as pd\n",
    "# Find the full location of the file\n",
    "acc_loc =\"C:/Users/ZhitingDu/Documents/3-PM & Data Analytics Lab/measurements_ride_comfort/286/sensors_rawdata/sensor/ACCELEROMETER/acc_00000.csv\"\n",
    "gps_loc =\"C:/Users/ZhitingDu/Documents/3-PM & Data Analytics Lab/measurements_ride_comfort/286/sensors_rawdata/sensor/POSITION/gps_00000.csv\"\n",
    "\n",
    "# Find the current working directory\n",
    "acc =  pd.read_csv(acc_loc)\n",
    "gps =  pd.read_csv(gps_loc)"
   ]
  },
  {
   "cell_type": "code",
   "execution_count": 29,
   "metadata": {},
   "outputs": [
    {
     "name": "stdout",
     "output_type": "stream",
     "text": [
      "      timestamp;accelerationX;accelerationY;accelerationZ\n",
      "0          1666815019038;-0.08379706;0.38067806;9.816526 \n",
      "1         1666815019078;0.021547815;0.36152446;9.9194765 \n",
      "2           1666815019249;-0.12928689;0.4381389;9.850045 \n",
      "3          1666815019259;-0.12689269;0.36391866;9.759066 \n",
      "4         1666815019269;-0.055066638;0.39264908;9.816526 \n",
      "...                                                  ... \n",
      "67947       1666815699708;0.320823;-0.48602295;10.731112 \n",
      "67948      1666815699718;1.5753847;-0.05746084;10.369587 \n",
      "67949         1666815699728;2.1380222;-0.260968;9.440637 \n",
      "67950        1666815699738;0.90261406;-0.545878;9.476549 \n",
      "67951      1666815699748;0.29448682;-0.34476504;9.261071 \n",
      "\n",
      "[67952 rows x 1 columns]\n"
     ]
    }
   ],
   "source": [
    "print(acc)"
   ]
  },
  {
   "cell_type": "code",
   "execution_count": 30,
   "metadata": {},
   "outputs": [
    {
     "name": "stdout",
     "output_type": "stream",
     "text": [
      "    timestamp;latitude;longitude;accuracyPos;altitude;accuracyAlt;speed;accuracySpeed;bearing;accuracyBearing\n",
      "0    1666803664021;47.0708091;15.4370118;218.692;39...                                                       \n",
      "1    1666803869097;47.0706477;15.4353696;699.999;39...                                                       \n",
      "2    1666804010142;47.0707026;15.4349709;699.999;39...                                                       \n",
      "3    1666815019212;47.0672089;15.4422228;43.255;398...                                                       \n",
      "4    1666815029004;47.0672432;15.4417844;26.127;398...                                                       \n",
      "..                                                 ...                                                       \n",
      "676  1666815702000;47.0507989;15.3970219;3.42;404.6...                                                       \n",
      "677  1666815703000;47.0507881;15.3968312;3.9;404.60...                                                       \n",
      "678  1666815704000;47.0507761;15.3966431;3.9;404.60...                                                       \n",
      "679  1666815705000;47.0507661;15.3964567;3.9;404.60...                                                       \n",
      "680  1666815706000;47.0507699;15.3962908;4.411;404....                                                       \n",
      "\n",
      "[681 rows x 1 columns]\n"
     ]
    }
   ],
   "source": [
    "print(gps)"
   ]
  },
  {
   "cell_type": "code",
   "execution_count": null,
   "metadata": {},
   "outputs": [],
   "source": [
    "# join\n"
   ]
  },
  {
   "cell_type": "code",
   "execution_count": null,
   "metadata": {},
   "outputs": [],
   "source": []
  },
  {
   "cell_type": "code",
   "execution_count": null,
   "metadata": {},
   "outputs": [],
   "source": []
  },
  {
   "cell_type": "code",
   "execution_count": null,
   "metadata": {},
   "outputs": [],
   "source": []
  },
  {
   "cell_type": "code",
   "execution_count": null,
   "metadata": {},
   "outputs": [],
   "source": []
  },
  {
   "cell_type": "code",
   "execution_count": null,
   "metadata": {},
   "outputs": [],
   "source": []
  },
  {
   "cell_type": "code",
   "execution_count": null,
   "metadata": {},
   "outputs": [],
   "source": []
  }
 ],
 "metadata": {
  "kernelspec": {
   "display_name": "Python 3",
   "language": "python",
   "name": "python3"
  },
  "language_info": {
   "codemirror_mode": {
    "name": "ipython",
    "version": 3
   },
   "file_extension": ".py",
   "mimetype": "text/x-python",
   "name": "python",
   "nbconvert_exporter": "python",
   "pygments_lexer": "ipython3",
   "version": "3.10.8"
  }
 },
 "nbformat": 4,
 "nbformat_minor": 2
}
