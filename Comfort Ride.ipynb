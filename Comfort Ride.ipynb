{
 "cells": [
  {
   "cell_type": "code",
   "execution_count": 33,
   "metadata": {},
   "outputs": [],
   "source": [
    "import pandas as pd\n",
    "# Find the full location of the file\n",
    "acc_loc =\"C:/Users/ZhitingDu/Documents/3-PM & Data Analytics Lab/measurements_ride_comfort/286/sensors_rawdata/sensor/ACCELEROMETER/acc_00000.csv\"\n",
    "gps_loc =\"C:/Users/ZhitingDu/Documents/3-PM & Data Analytics Lab/measurements_ride_comfort/286/sensors_rawdata/sensor/POSITION/gps_00000.csv\"\n",
    "\n",
    "# Find the current working directory\n",
    "acc =  pd.read_csv(acc_loc, sep = ';')\n",
    "gps =  pd.read_csv(gps_loc, sep = ';')"
   ]
  },
  {
   "cell_type": "code",
   "execution_count": 34,
   "metadata": {},
   "outputs": [
    {
     "name": "stdout",
     "output_type": "stream",
     "text": [
      "           timestamp  accelerationX  accelerationY  accelerationZ\n",
      "0      1666815019038      -0.083797       0.380678       9.816526\n",
      "1      1666815019078       0.021548       0.361524       9.919477\n",
      "2      1666815019249      -0.129287       0.438139       9.850045\n",
      "3      1666815019259      -0.126893       0.363919       9.759066\n",
      "4      1666815019269      -0.055067       0.392649       9.816526\n",
      "...              ...            ...            ...            ...\n",
      "67947  1666815699708       0.320823      -0.486023      10.731112\n",
      "67948  1666815699718       1.575385      -0.057461      10.369587\n",
      "67949  1666815699728       2.138022      -0.260968       9.440637\n",
      "67950  1666815699738       0.902614      -0.545878       9.476549\n",
      "67951  1666815699748       0.294487      -0.344765       9.261071\n",
      "\n",
      "[67952 rows x 4 columns]\n"
     ]
    }
   ],
   "source": [
    "print(acc)"
   ]
  },
  {
   "cell_type": "code",
   "execution_count": 35,
   "metadata": {},
   "outputs": [
    {
     "name": "stdout",
     "output_type": "stream",
     "text": [
      "         timestamp   latitude  longitude  accuracyPos    altitude  \\\n",
      "0    1666803664021  47.070809  15.437012      218.692  395.799988   \n",
      "1    1666803869097  47.070648  15.435370      699.999  395.799988   \n",
      "2    1666804010142  47.070703  15.434971      699.999  395.799988   \n",
      "3    1666815019212  47.067209  15.442223       43.255  398.199982   \n",
      "4    1666815029004  47.067243  15.441784       26.127  398.199982   \n",
      "..             ...        ...        ...          ...         ...   \n",
      "676  1666815702000  47.050799  15.397022        3.420  404.600006   \n",
      "677  1666815703000  47.050788  15.396831        3.900  404.600006   \n",
      "678  1666815704000  47.050776  15.396643        3.900  404.600006   \n",
      "679  1666815705000  47.050766  15.396457        3.900  404.600006   \n",
      "680  1666815706000  47.050770  15.396291        4.411  404.600006   \n",
      "\n",
      "     accuracyAlt      speed  accuracySpeed    bearing  accuracyBearing  \n",
      "0     114.772350   0.166471           0.00   65.73636              0.0  \n",
      "1     114.772350   0.000000           0.00    0.00000              0.0  \n",
      "2     114.772350   0.000000           0.00    0.00000              0.0  \n",
      "3       1.093454   0.000000           0.00    0.00000              0.0  \n",
      "4       1.194724   3.286821           0.45  241.41335             15.0  \n",
      "..           ...        ...            ...        ...              ...  \n",
      "676     4.341894  14.729905           0.18  264.99970              0.3  \n",
      "677     4.219995  14.521049           0.31  264.00153              0.6  \n",
      "678     4.232411  14.490282           0.45  264.00010              1.1  \n",
      "679     4.700641  13.693693           0.32  265.99872              0.6  \n",
      "680     3.480796  13.271575           0.27  267.00024              0.5  \n",
      "\n",
      "[681 rows x 10 columns]\n"
     ]
    }
   ],
   "source": [
    "print(gps)"
   ]
  },
  {
   "cell_type": "code",
   "execution_count": null,
   "metadata": {},
   "outputs": [],
   "source": [
    "# join\n"
   ]
  },
  {
   "cell_type": "code",
   "execution_count": null,
   "metadata": {},
   "outputs": [],
   "source": []
  },
  {
   "cell_type": "code",
   "execution_count": null,
   "metadata": {},
   "outputs": [],
   "source": []
  },
  {
   "cell_type": "code",
   "execution_count": null,
   "metadata": {},
   "outputs": [],
   "source": []
  },
  {
   "cell_type": "code",
   "execution_count": null,
   "metadata": {},
   "outputs": [],
   "source": []
  },
  {
   "cell_type": "code",
   "execution_count": null,
   "metadata": {},
   "outputs": [],
   "source": []
  },
  {
   "cell_type": "code",
   "execution_count": null,
   "metadata": {},
   "outputs": [],
   "source": []
  }
 ],
 "metadata": {
  "kernelspec": {
   "display_name": "Python 3",
   "language": "python",
   "name": "python3"
  },
  "language_info": {
   "codemirror_mode": {
    "name": "ipython",
    "version": 3
   },
   "file_extension": ".py",
   "mimetype": "text/x-python",
   "name": "python",
   "nbconvert_exporter": "python",
   "pygments_lexer": "ipython3",
   "version": "3.10.8"
  }
 },
 "nbformat": 4,
 "nbformat_minor": 2
}
